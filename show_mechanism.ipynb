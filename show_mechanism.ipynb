{
 "cells": [
  {
   "cell_type": "code",
   "execution_count": null,
   "id": "7195171c",
   "metadata": {},
   "outputs": [],
   "source": [
    "import networkx as nx\n",
    "import cantera as ct\n",
    "import numpy as np\n",
    "from bokeh.models import Circle, MultiLine, HoverTool\n",
    "from bokeh.plotting import figure, from_networkx, show, output_notebook\n",
    "from networkx.drawing.nx_agraph import graphviz_layout\n"
   ]
  },
  {
   "cell_type": "code",
   "execution_count": null,
   "id": "b1137711",
   "metadata": {},
   "outputs": [],
   "source": [
    "\n",
    "mechanism_file = \"/home/moon/autokmc/rmg2kmc/examples/co_oxidation/chem_annotated.cti\""
   ]
  },
  {
   "cell_type": "code",
   "execution_count": null,
   "id": "0bb8db3f",
   "metadata": {},
   "outputs": [],
   "source": [
    "T = 1000.0\n",
    "\n",
    "\n",
    "gas = ct.Solution(mechanism_file, \"gas\")\n",
    "surf = ct.Interface(mechanism_file, \"surface1\", [gas])\n",
    "\n",
    "species_list = surf.species() + gas.species()\n",
    "reaction_list_total = surf.reactions() + gas.reactions()\n",
    "\n",
    "reaction_weights = [rxn.rate(T) for rxn in reaction_list_total]"
   ]
  },
  {
   "cell_type": "code",
   "execution_count": null,
   "id": "eb37d1da",
   "metadata": {},
   "outputs": [],
   "source": [
    "reaction_list = reaction_list_total\n",
    "hide_inerts = True\n",
    "inerts = set(['Ar', 'Ne', 'N2'])\n",
    "overall_reactants = set(['O2(2)', 'CO(4)'])\n",
    "overall_products = set(['CO2(3)'])\n",
    "\n",
    "G = nx.Graph()\n",
    "\n",
    "for i, species in enumerate(species_list):\n",
    "    if hide_inerts:\n",
    "        if species.name in inerts:\n",
    "            continue\n",
    "#         G.add_node(species.name, name=species.name)\n",
    "        G.add_node(species.name, name=species.name, thermo=species.thermo.h(T))\n",
    "\n",
    "node_color_map = []\n",
    "node_attr = {}\n",
    "for node in G:\n",
    "    if node in overall_reactants:\n",
    "#         node_color_map.append('red')\n",
    "        node_color_map.append('#FF0000')\n",
    "        node_attr[node] = 'red'\n",
    "    elif node in overall_products:\n",
    "#         node_color_map.append('green')\n",
    "        node_color_map.append('#00FF00')\n",
    "        node_attr[node] = 'green'\n",
    "    else:\n",
    "#         node_color_map.append('blue')\n",
    "        node_color_map.append('#0000FF')\n",
    "        node_attr[node] = 'grey'\n",
    "\n",
    "nx.set_node_attributes(G, node_attr, name=\"node_color\")\n",
    "\n",
    "edge_weights = {}\n",
    "for reaction in reaction_list:\n",
    "    for product_name in reaction.products:\n",
    "        for reactant_name in reaction.reactants:\n",
    "#             G.add_edge(product_name, reactant_name, color='black')\n",
    "#             edge_weights.append(np.log(reaction.rate(T)))\n",
    "            edge_weights[product_name, reactant_name] = np.log(reaction.rate(T))\n",
    "            G.add_edge(product_name, reactant_name, color='black')\n",
    "nx.set_edge_attributes(G, edge_weights, name=\"edge_rate\")"
   ]
  },
  {
   "cell_type": "code",
   "execution_count": null,
   "id": "6fc7c4aa",
   "metadata": {},
   "outputs": [],
   "source": [
    "output_notebook()\n",
    "edge_attrs = {}\n",
    "\n",
    "\n",
    "# don't forget the seed, or it'll draw it differently every time\n",
    "plot = figure(width=400, height=400,\n",
    "              x_axis_location=None, y_axis_location=None, toolbar_location=None,\n",
    "              title=\"Graph Interaction Demo\", background_fill_color=\"#efefef\",\n",
    "              tooltips=\"name: @name, G: @thermo, edge_rate: @edge_rate\")\n",
    "# plot = figure(width=400, height=400, x_range=(-1.2, 1.2), y_range=(-1.2, 1.2),\n",
    "#               x_axis_location=None, y_axis_location=None, toolbar_location=None,\n",
    "#               title=\"Graph Interaction Demo\", background_fill_color=\"#efefef\",\n",
    "#               tooltips=\"name: @name, G: @thermo\")\n",
    "# # plot.grid.grid_line_color = None\n",
    "\n",
    "pos1 = nx.drawing.nx_agraph.graphviz_layout(G, prog='dot')\n",
    "\n",
    "graph_renderer = from_networkx(G, pos1)\n",
    "# graph_renderer = from_networkx(G, nx.spring_layout, seed=40, scale=1, center=(0, 0))\n",
    "graph_renderer.node_renderer.glyph = Circle(size=15, fill_color=\"node_color\")\n",
    "plot.renderers.append(graph_renderer)\n",
    "\n",
    "# graph_renderer.edge_renderer.glyph = Circle(size=15, fill_color=\"node_color\")\n",
    "# graph_renderer.edge_renderer.glyph = Circle(size=15)\n",
    "\n",
    "# graph_renderer.edge_renderer.glyph.line_width = {'field': 'edge_rate'}\n",
    "# hover_edges = HoverTool(\n",
    "#     tooltips=[('edge_rate','@edge_rate')],\n",
    "#     renderers=[graph_renderer.edge_renderer], line_policy=\"interp\"\n",
    "# )\n",
    "# plot.add_tools(hover_edges)\n",
    "\n",
    "show(plot)"
   ]
  },
  {
   "cell_type": "code",
   "execution_count": null,
   "id": "ab68b8fe",
   "metadata": {},
   "outputs": [],
   "source": [
    "species_list[4].thermo.h(1200)"
   ]
  },
  {
   "cell_type": "code",
   "execution_count": null,
   "id": "7499baca",
   "metadata": {},
   "outputs": [],
   "source": [
    "reaction_list[2].reactants"
   ]
  },
  {
   "cell_type": "code",
   "execution_count": null,
   "id": "f4507e1b",
   "metadata": {},
   "outputs": [],
   "source": [
    "delta_H = 0\n",
    "reaction_index = 2\n",
    "for key in reaction_list[reaction_index].products:\n",
    "    try:\n",
    "        print(surf.species(key).thermo.h(T))\n",
    "        \n",
    "    except:\n",
    "        print(gas.species(key).thermo.h(T))\n",
    "\n",
    "\n",
    "for key in reaction_list[reaction_index].reactants:\n",
    "    try:\n",
    "        print(surf.species(key).thermo.h(T))\n",
    "    except:\n",
    "        print(gas.species(key).thermo.h(T))\n"
   ]
  },
  {
   "cell_type": "code",
   "execution_count": null,
   "id": "cd1d8c55",
   "metadata": {},
   "outputs": [],
   "source": [
    "pos1"
   ]
  },
  {
   "cell_type": "code",
   "execution_count": null,
   "id": "ecf9e0e1",
   "metadata": {},
   "outputs": [],
   "source": [
    "nx.spring_layout(G)"
   ]
  },
  {
   "cell_type": "code",
   "execution_count": null,
   "id": "91a83b00",
   "metadata": {},
   "outputs": [],
   "source": [
    "graph_renderer.edge_renderer"
   ]
  },
  {
   "cell_type": "code",
   "execution_count": null,
   "id": "b2d5466f",
   "metadata": {},
   "outputs": [],
   "source": [
    "node_attr"
   ]
  },
  {
   "cell_type": "code",
   "execution_count": null,
   "id": "584ce906",
   "metadata": {},
   "outputs": [],
   "source": [
    "G['',1]"
   ]
  },
  {
   "cell_type": "code",
   "execution_count": null,
   "id": "e1595947",
   "metadata": {},
   "outputs": [],
   "source": [
    "reaction_list[0]"
   ]
  },
  {
   "cell_type": "code",
   "execution_count": null,
   "id": "6f2325f1",
   "metadata": {},
   "outputs": [],
   "source": [
    "# dir(surf)\n",
    "print(surf.reactions()[0])\n",
    "K = surf.equilibrium_constants[0]\n",
    "print(K)\n",
    "k_fwd = surf.reactions()[0].rate(294)\n",
    "k_rev = k_fwd / K\n",
    "print(f'k_fwd:\\t{k_fwd}')\n",
    "print(f'k_rev:\\t{k_rev}')\n",
    "# len(surf.equilibrium_constants)\n",
    "len(surf.reactions())\n",
    "# dir(reaction_list[0])"
   ]
  },
  {
   "cell_type": "code",
   "execution_count": null,
   "id": "e543c514",
   "metadata": {},
   "outputs": [],
   "source": [
    "# Wintterlin"
   ]
  }
 ],
 "metadata": {
  "kernelspec": {
   "display_name": "Python 3 (ipykernel)",
   "language": "python",
   "name": "python3"
  },
  "language_info": {
   "codemirror_mode": {
    "name": "ipython",
    "version": 3
   },
   "file_extension": ".py",
   "mimetype": "text/x-python",
   "name": "python",
   "nbconvert_exporter": "python",
   "pygments_lexer": "ipython3",
   "version": "3.9.7"
  }
 },
 "nbformat": 4,
 "nbformat_minor": 5
}
