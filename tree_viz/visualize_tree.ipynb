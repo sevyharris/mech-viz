{
 "cells": [
  {
   "cell_type": "code",
   "execution_count": 1,
   "id": "afdbf6d5",
   "metadata": {},
   "outputs": [],
   "source": [
    "# Script to visualize a reaction family tree"
   ]
  },
  {
   "cell_type": "code",
   "execution_count": 1,
   "id": "cad4c3df",
   "metadata": {},
   "outputs": [],
   "source": [
    "import os\n",
    "import sys\n",
    "import copy\n",
    "import json\n",
    "import pickle\n",
    "\n",
    "import numpy as np\n",
    "import rmgpy.chemkin\n",
    "import rmgpy.tools.uncertainty\n",
    "\n",
    "import matplotlib.pyplot as plt\n",
    "import pydot\n",
    "import matplotlib.image as mpimg\n",
    "%matplotlib inline\n"
   ]
  },
  {
   "cell_type": "code",
   "execution_count": 2,
   "id": "852411df",
   "metadata": {},
   "outputs": [],
   "source": [
    "# Load the RMG mechanism\n",
    "\n",
    "# Load the base model and the covariance matrix\n",
    "basedir = '/home/moon/autoscience/autoscience/butane/models/rmg_model'\n",
    "\n",
    "base_chemkin = os.path.join(basedir, 'chem_annotated.inp')\n",
    "dictionary = os.path.join(basedir, 'species_dictionary.txt')\n",
    "transport = os.path.join(basedir, 'tran.dat')\n",
    "\n",
    "species_list, reaction_list = rmgpy.chemkin.load_chemkin_file(base_chemkin, dictionary_path=dictionary, transport_path=transport)\n",
    "\n",
    "covariance_file = '/home/moon/autoscience/autoscience/uncertainty/butane_covariance.pickle'\n",
    "with open(covariance_file, 'rb') as handle:\n",
    "    Sigma_k = pickle.load(handle)\n"
   ]
  },
  {
   "cell_type": "code",
   "execution_count": 3,
   "id": "0368fc7d",
   "metadata": {},
   "outputs": [
    {
     "name": "stderr",
     "output_type": "stream",
     "text": [
      "WARNING:root:Only Arrhenius and PDepArrhenius kinetics supported for duplicate reactions.\n",
      "WARNING:root:Only Arrhenius and PDepArrhenius kinetics supported for duplicate reactions.\n",
      "WARNING:root:Only Arrhenius and PDepArrhenius kinetics supported for duplicate reactions.\n",
      "WARNING:root:Only Arrhenius and PDepArrhenius kinetics supported for duplicate reactions.\n"
     ]
    }
   ],
   "source": [
    "# load the model\n",
    "\n",
    "uncertainty = rmgpy.tools.uncertainty.Uncertainty(output_directory='rmg_uncertainty')\n",
    "uncertainty.load_model(base_chemkin, dictionary)\n",
    "\n",
    "\n",
    "\n",
    "\n",
    "# TODO - force the user to provide the input file used to generate the mechanism to ensure databases are really the same\n",
    "# load the database\n",
    "# --------------- CAUTION!!! Databases here must match the ones used to generate the mechanism\n",
    "# note - this cell stalls out on Discovery\n",
    "thermo_libs = [\n",
    "    'BurkeH2O2',\n",
    "    'primaryThermoLibrary',\n",
    "    'FFCM1(-)',\n",
    "    'CurranPentane',\n",
    "    'Klippenstein_Glarborg2016',\n",
    "    'thermo_DFT_CCSDTF12_BAC',\n",
    "    'DFT_QCI_thermo',\n",
    "    'CBS_QB3_1dHR',\n",
    "]\n",
    "\n",
    "kinetic_libs = [\n",
    "    'FFCM1(-)',\n",
    "    'CurranPentane',\n",
    "    'combustion_core/version5',\n",
    "    'Klippenstein_Glarborg2016',\n",
    "    'BurkeH2O2inArHe',\n",
    "    'BurkeH2O2inN2',\n",
    "]\n",
    "uncertainty.load_database(\n",
    "    thermo_libraries=thermo_libs,\n",
    "    kinetics_families='default',\n",
    "    reaction_libraries=kinetic_libs,\n",
    "    kinetics_depositories=['training'],\n",
    ")\n"
   ]
  },
  {
   "cell_type": "code",
   "execution_count": 4,
   "id": "c9278b6b",
   "metadata": {},
   "outputs": [],
   "source": [
    "# Get the different kinetic and thermo sources\n",
    "uncertainty.extract_sources_from_model()\n",
    "uncertainty.assign_parameter_uncertainties()"
   ]
  },
  {
   "cell_type": "code",
   "execution_count": 5,
   "id": "052d3144",
   "metadata": {},
   "outputs": [],
   "source": [
    "# Create a giant dictionary with all of the reaction family information in it\n",
    "auto_gen_families = {}\n",
    "for family_name in uncertainty.database.kinetics.families.keys():\n",
    "    if family_name == 'Intra_R_Add_Endocyclic' or family_name == 'Intra_R_Add_Exocyclic':\n",
    "        continue\n",
    "    if uncertainty.database.kinetics.families[family_name].auto_generated and family_name not in auto_gen_families.keys():\n",
    "        auto_gen_families[family_name] = uncertainty.database.kinetics.families[family_name].rules.get_entries()\n",
    "        auto_gen_families[f'{family_name}_labels'] = [entry.label for entry in uncertainty.database.kinetics.families[family_name].rules.get_entries()]\n",
    "        auto_gen_families[f'{family_name}_rxn_map'] = uncertainty.database.kinetics.families[family_name].get_reaction_matches(\n",
    "            thermo_database=uncertainty.database.thermo,\n",
    "            remove_degeneracy=True,\n",
    "            get_reverse=True,\n",
    "            exact_matches_only=False,\n",
    "            fix_labels=True)"
   ]
  },
  {
   "cell_type": "code",
   "execution_count": 98,
   "id": "887b71af",
   "metadata": {},
   "outputs": [],
   "source": [
    "# for rule in uncertainty.database.kinetics.families[family_name].rules.entries:\n",
    "#     print(rule)"
   ]
  },
  {
   "cell_type": "code",
   "execution_count": 99,
   "id": "c662f9ed",
   "metadata": {},
   "outputs": [],
   "source": [
    "# for group in uncertainty.database.kinetics.families[family_name].groups.entries:\n",
    "#     print(group)"
   ]
  },
  {
   "cell_type": "markdown",
   "id": "a5484a13",
   "metadata": {},
   "source": [
    "# Make the Graph"
   ]
  },
  {
   "cell_type": "code",
   "execution_count": 92,
   "id": "19bf9325",
   "metadata": {},
   "outputs": [],
   "source": [
    "def get_node_nickname(node):\n",
    "    parent = node.parent\n",
    "#     return node.label.split('->')[-1]  # this doesn't work for some reason\n",
    "    if parent:\n",
    "        # subtract the length of the parent\n",
    "        parent_name = node.parent.label\n",
    "        \n",
    "        if parent_name != node.label[:len(parent_name)]:\n",
    "            print(parent_name, node.label)\n",
    "        return node.label[len(parent_name):]\n",
    "    return node.label"
   ]
  },
  {
   "cell_type": "code",
   "execution_count": null,
   "id": "1a0081b1",
   "metadata": {},
   "outputs": [],
   "source": [
    "# uncertainty.database.kinetics.families[family_name].groups.entries['Root_Ext-1R!H-R'].parent\n",
    "# uncertainty.database.kinetics.families[family_name].groups.entries['Root'].parent"
   ]
  },
  {
   "cell_type": "code",
   "execution_count": 100,
   "id": "c83147f0",
   "metadata": {},
   "outputs": [],
   "source": [
    "# get_node_nickname(uncertainty.database.kinetics.families[family_name].groups.entries['Root'])\n",
    "# get_node_nickname(uncertainty.database.kinetics.families[family_name].groups.entries['Root_Ext-1R!H-R'])\n",
    "# get_node_nickname(uncertainty.database.kinetics.families[family_name].groups.entries['Root_Ext-1R!H-R_N-4R->O_N-Sp-5R!H=1R!H_Ext-4CHNS-R_N-6R!H->S'])"
   ]
  },
  {
   "cell_type": "code",
   "execution_count": 48,
   "id": "92c40aa1",
   "metadata": {},
   "outputs": [],
   "source": [
    "def link_children(parent_node):\n",
    "    if len(parent_node.children) == 0:\n",
    "        return\n",
    "    \n",
    "    for child in parent_node.children:\n",
    "        link_children(child)\n",
    "#         graph.add_edge(pydot.Edge(get_node_nickname(parent_node), get_node_nickname(child), color='black'))  #it's a mess if you do it this way\n",
    "        graph.add_edge(pydot.Edge(str(parent_node.index), str(child.index), color='black'))\n",
    "\n",
    "\n",
    "\n",
    "#         graph.add_edge(pydot.Edge(get_node_nickname(parent_node), get_node_nickname(child), color='black'))\n",
    "\n",
    "# def link_children(parent_node):\n",
    "#     if len(uncertainty.database.kinetics.families[family_name].groups.entries[parent_node].children) == 0:\n",
    "#         return\n",
    "    \n",
    "#     for child in uncertainty.database.kinetics.families[family_name].groups.entries[parent_node].children:\n",
    "#         link_children(str(child))\n",
    "#         graph.add_edge(pydot.Edge(str(parent_node.index), str(child.index), color='black'))"
   ]
  },
  {
   "cell_type": "code",
   "execution_count": 94,
   "id": "6b8d200f",
   "metadata": {},
   "outputs": [],
   "source": [
    "graph = pydot.Dot('Disproportionation_tree', graph_type='digraph', overlap=\"false\")\n",
    "# graph.set_rankdir('LR')\n",
    "# graph.set_fontname('sans')\n",
    "# graph.set_fontsize('10')\n",
    "\n",
    "# Add nodes\n",
    "for group in uncertainty.database.kinetics.families[family_name].groups.entries:\n",
    "\n",
    "    # it's a mess if you do it with nicknames, so use index\n",
    "#     node_name = get_node_nickname(uncertainty.database.kinetics.families[family_name].groups.entries[group])\n",
    "#     print(node_name)\n",
    "#     graph.add_node(pydot.Node(name=node_name))\n",
    "\n",
    "    if uncertainty.database.kinetics.families[family_name].groups.entries[group].index < 0:\n",
    "        continue\n",
    "\n",
    "    graph.add_node(pydot.Node(name=str(uncertainty.database.kinetics.families[family_name].groups.entries[group].index)))\n",
    "#     print(str(uncertainty.database.kinetics.families[family_name].groups.entries[group].index))\n",
    "\n",
    "link_children(uncertainty.database.kinetics.families[family_name].groups.entries['Root'])\n",
    "# link_children('Root')\n",
    "\n",
    "graph = pydot.graph_from_dot_data(graph.create_dot(prog='dot').decode('utf-8'))[0]"
   ]
  },
  {
   "cell_type": "code",
   "execution_count": null,
   "id": "6cd89259",
   "metadata": {},
   "outputs": [],
   "source": [
    "# change the names of the nodes\n",
    "for node in graph.get_nodes():\n",
    "    name = node.get_name()\n",
    "    for group in uncertainty.database.kinetics.families[family_name].groups.entries:\n",
    "        if str(uncertainty.database.kinetics.families[family_name].groups.entries[group].index) == name:\n",
    "            rmgdb_node = uncertainty.database.kinetics.families[family_name].groups.entries[group]\n",
    "            node.set_label(get_node_nickname(rmgdb_node))\n",
    "#             print(get_node_nickname())\n",
    "            break\n"
   ]
  },
  {
   "cell_type": "markdown",
   "id": "1863bb99",
   "metadata": {},
   "source": [
    "## Plot the graph"
   ]
  },
  {
   "cell_type": "code",
   "execution_count": 96,
   "id": "23b6b96b",
   "metadata": {},
   "outputs": [],
   "source": [
    "graph.write_dot('Disproportionation_tree.dot')\n",
    "graph.write_png('Disproportionation_tree.png')"
   ]
  },
  {
   "cell_type": "code",
   "execution_count": 97,
   "id": "ad9d78ad",
   "metadata": {},
   "outputs": [
    {
     "data": {
      "image/png": "[encoded data removed]",
      "text/plain": [
       "<Figure size 432x288 with 1 Axes>"
      ]
     },
     "metadata": {
      "needs_background": "light"
     },
     "output_type": "display_data"
    }
   ],
   "source": [
    "img = mpimg.imread('Disproportionation_tree.png')\n",
    "imgplot = plt.imshow(img)"
   ]
  },
  {
   "cell_type": "code",
   "execution_count": null,
   "id": "ccab83f8",
   "metadata": {},
   "outputs": [],
   "source": [
    "# # some ideas for visualization:\n",
    "# - size the nodes based on the number of training reactions used\n",
    "# - size the nodes by uncertainty\n",
    "# - size the nodes by the number of mechanism reactions that use that node\n",
    "        "
   ]
  },
  {
   "cell_type": "code",
   "execution_count": null,
   "id": "5ea59424",
   "metadata": {},
   "outputs": [],
   "source": []
  },
  {
   "cell_type": "code",
   "execution_count": null,
   "id": "a21b5f7b",
   "metadata": {},
   "outputs": [],
   "source": []
  }
 ],
 "metadata": {
  "kernelspec": {
   "display_name": "Python 3 (ipykernel)",
   "language": "python",
   "name": "python3"
  },
  "language_info": {
   "codemirror_mode": {
    "name": "ipython",
    "version": 3
   },
   "file_extension": ".py",
   "mimetype": "text/x-python",
   "name": "python",
   "nbconvert_exporter": "python",
   "pygments_lexer": "ipython3",
   "version": "3.7.12"
  }
 },
 "nbformat": 4,
 "nbformat_minor": 5
}
